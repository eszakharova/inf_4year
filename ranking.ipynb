{
 "cells": [
  {
   "cell_type": "markdown",
   "metadata": {
    "collapsed": true
   },
   "source": [
    "## Функция ранжирования Okapi BM25"
   ]
  },
  {
   "cell_type": "markdown",
   "metadata": {},
   "source": [
    "Если у вас нет ассесоров, которые могут проставить оценки релевантности документам, вышепроделанный способ ранжирования вам не подходит. В этом случае можно использовать формулу *Okapi best match 25* ([Okapi BM25](https://ru.wikipedia.org/wiki/Okapi_BM25)). Пусть дан запрос $Q$, содержащий слова  $q_1, ... , q_n$, тогда функция BM25 даёт следующую оценку релевантности документа $D$ запросу $Q$:\n",
    "\n",
    "$$ score(D, Q) = \\sum_{i}^{n} \\text{IDF}(q_i)*\\frac{(k+1)*f(q_i,D)}{f(q_i,D)+k_1(1-b+b\\frac{|D|}{avgdl})} $$ \n",
    "где $f(q_i,D)$ - частота слова (TF) $q_i$ в документе $D$, $|D|$ - длина документа (количество слов в нём), а *avgdl* — средняя длина документа в коллекции. \n",
    "$$$$\n",
    "$k_1$ и $b$ — свободные коэффициенты, обычно их выбирают как $k_1$=2.0 и $b$=0.75.\n",
    "$$$$\n",
    "$\\text{IDF}(q_i)$ есть обратная документная частота (IDF) слова $q_i$: \n",
    "$$\\text{IDF}(q_i) = \\log\\frac{N-n(q_i)+0.5}{n(q_i)+0.5},$$\n",
    "где $N$ - общее количество документов в коллекции, а  $n(q_i)$ — количество документов, содержащих $q_i$. "
   ]
  },
  {
   "cell_type": "code",
   "execution_count": 1,
   "metadata": {
    "collapsed": false,
    "scrolled": false
   },
   "outputs": [],
   "source": [
    "from inv_index import InvIndex"
   ]
  },
  {
   "cell_type": "code",
   "execution_count": 2,
   "metadata": {
    "collapsed": true
   },
   "outputs": [],
   "source": [
    "from os import listdir"
   ]
  },
  {
   "cell_type": "code",
   "execution_count": 3,
   "metadata": {
    "collapsed": true
   },
   "outputs": [],
   "source": [
    "from IPython.display import HTML, display\n",
    "from collections import defaultdict"
   ]
  },
  {
   "cell_type": "code",
   "execution_count": 4,
   "metadata": {
    "collapsed": true
   },
   "outputs": [],
   "source": [
    "from math import log\n",
    "\n",
    "k1 = 2.0\n",
    "b = 0.75\n",
    "\n",
    "def score_BM25(n, qf, N, dl, avdl):\n",
    "    K = compute_K(dl, avdl)\n",
    "    IDF = log((N - n + 0.5) / (n + 0.5))\n",
    "    frac = ((k1 + 1) * qf) / (K + qf)\n",
    "    return IDF * frac\n",
    "\n",
    "\n",
    "def compute_K(dl, avdl):\n",
    "    return k1 * ((1-b) + b * (float(dl)/float(avdl)))"
   ]
  },
  {
   "cell_type": "markdown",
   "metadata": {},
   "source": [
    "**Задание по проекту.** \n",
    "Для его выполнения вам понадобится собранная коллекция документов и функция, составляющая обратный индекс по словам в коллекции.\n",
    "\n",
    "Напишите функцию (или несколько отдельных логичный функций), которая по запросу $Q = q_1,..., g_n$ и коллекции $D$ сортирует выдачу подходящих документов. Будем считать документ подходящим, если он содержит хотя бы одно слово из запроса (из которого удалены стоп-слова). В качестве метрики используйте *Okapi BM25*.\n",
    "\n",
    "Для проверки работы функции на вашем корпусе используйте запрос **каникулы на новый год и рождество**. Выведите ссылки в ipynb на первые десять докуменов в отсортированной выдаче(как во втором семинаре с помощью IPython.display) и их оценку BM25. Напомню, что ссылки на документы хрянятся в самих доках под тэгом @url."
   ]
  },
  {
   "cell_type": "markdown",
   "metadata": {},
   "source": [
    "Про что не забыть:\n",
    "1. Лемматизируем запрос, удаляем стоп-слова => запрос готов\n",
    "2. Лемматизируем слова в документах => документы готовы к подсчетам статистик по запросу"
   ]
  },
  {
   "cell_type": "code",
   "execution_count": 5,
   "metadata": {
    "collapsed": true
   },
   "outputs": [],
   "source": [
    "class Document():\n",
    "    def __init__(self, lines):\n",
    "        self.author = lines[0].strip('@au').strip()\n",
    "        self.title = lines[1].strip(r'@ti').strip()\n",
    "        self.date = lines[2].strip(r'@da').strip()\n",
    "        self.topic = lines[3].strip(r'@topic').strip()\n",
    "        self.url = lines[4].strip(r'@url').strip()\n",
    "        self.text = lines[5].strip()\n",
    "        self.tokens = None"
   ]
  },
  {
   "cell_type": "code",
   "execution_count": 47,
   "metadata": {
    "collapsed": false
   },
   "outputs": [],
   "source": [
    "class SearchRank():\n",
    "    def __init__(self, dir_path):\n",
    "        self.maker = InvIndex('russian')\n",
    "        self.read_documents(dir_path)\n",
    "        \n",
    "    def read_documents(self, dir_path):\n",
    "        self.documents = []\n",
    "        self.unique = []\n",
    "        sum_dl = 0\n",
    "        cnt = 1\n",
    "        for filename in listdir(dir_path):\n",
    "            f = open(''.join([dir_path, '/', filename]), encoding='utf-8')\n",
    "            lines = f.readlines()\n",
    "            doc = Document(lines)\n",
    "            if doc.title not in self.unique:\n",
    "                self.documents.append(doc)\n",
    "                self.unique.append(doc.title)\n",
    "            if self.documents == []:\n",
    "                print('no documents in directory')\n",
    "                self.N = 0\n",
    "        for document in self.documents:\n",
    "            print(str(cnt)+'/'+str(len(self.documents)))\n",
    "            cnt += 1\n",
    "            document.tokens = self.maker.tokenize(document.text)\n",
    "            sum_dl += len(document.tokens)\n",
    "        self.inv_idx = self.maker.inv_index([document.tokens for document in self.documents], defaultdict(set))\n",
    "        self.N = len(self.documents)\n",
    "        self.avdl = sum_dl/self.N\n",
    "        print(str(self.N)+' documents collected')\n",
    "        \n",
    "    def query(self, query, num_links = 10, another_dir_path=None):\n",
    "        query_tokens = self.maker.tokenize(query)\n",
    "        ranking = defaultdict(int)\n",
    "        if another_dir_path:\n",
    "            self.read_documents(another_dir_path)\n",
    "        if not self.documents:\n",
    "            print ('pls enter dir_path')\n",
    "        else:\n",
    "            for document in self.documents:\n",
    "                has_query_words = False\n",
    "                dl = len(document.tokens)\n",
    "                for q_token in query_tokens:\n",
    "                    if q_token in self.inv_idx:\n",
    "                        n = len(self.inv_idx[q_token])\n",
    "                    else:\n",
    "                        n = 0\n",
    "                    qf = document.tokens.count(q_token)\n",
    "                    if qf > 0:\n",
    "                        has_query_words = True\n",
    "                    ranking[document] += score_BM25(n, qf, self.N, dl, self.avdl)\n",
    "                if not has_query_words:\n",
    "                    ranking.pop(document, None)   \n",
    "        print(len(ranking))\n",
    "        if len(ranking) < num_links:\n",
    "            num_links = len(ranking)\n",
    "        for doc in sorted(ranking, key=lambda x: ranking[x], reverse=True)[:num_links]:\n",
    "            display(doc.url, ranking[doc])"
   ]
  },
  {
   "cell_type": "code",
   "execution_count": 48,
   "metadata": {
    "collapsed": false,
    "scrolled": true
   },
   "outputs": [
    {
     "name": "stdout",
     "output_type": "stream",
     "text": [
      "1/28\n",
      "2/28\n",
      "3/28\n",
      "4/28\n",
      "5/28\n",
      "6/28\n",
      "7/28\n",
      "8/28\n",
      "9/28\n",
      "10/28\n",
      "11/28\n",
      "12/28\n",
      "13/28\n",
      "14/28\n",
      "15/28\n",
      "16/28\n",
      "17/28\n",
      "18/28\n",
      "19/28\n",
      "20/28\n",
      "21/28\n",
      "22/28\n",
      "23/28\n",
      "24/28\n",
      "25/28\n",
      "26/28\n",
      "27/28\n",
      "28/28\n",
      "28 documents collected\n"
     ]
    }
   ],
   "source": [
    "# пробный запрос к маленькому корпусу\n",
    "rank = SearchRank('app/small_coll')"
   ]
  },
  {
   "cell_type": "code",
   "execution_count": 49,
   "metadata": {
    "collapsed": false,
    "scrolled": false
   },
   "outputs": [
    {
     "name": "stdout",
     "output_type": "stream",
     "text": [
      "14\n"
     ]
    },
    {
     "data": {
      "text/plain": [
       "'http://zavety-i.ru/?module=articles&action=view&id=1746'"
      ]
     },
     "metadata": {},
     "output_type": "display_data"
    },
    {
     "data": {
      "text/plain": [
       "3.492820404442619"
      ]
     },
     "metadata": {},
     "output_type": "display_data"
    },
    {
     "data": {
      "text/plain": [
       "'http://zavety-i.ru/?module=articles&action=view&id=1769'"
      ]
     },
     "metadata": {},
     "output_type": "display_data"
    },
    {
     "data": {
      "text/plain": [
       "2.89532209979063"
      ]
     },
     "metadata": {},
     "output_type": "display_data"
    },
    {
     "data": {
      "text/plain": [
       "'http://mgazeta.com/category/tak-i-zhivem/kakoy-budet-nyneshnyaya-zima-gadaem-na-mokhnatykh-gusenitsakh-i-kommunalshchikakh/'"
      ]
     },
     "metadata": {},
     "output_type": "display_data"
    },
    {
     "data": {
      "text/plain": [
       "2.6716733627924505"
      ]
     },
     "metadata": {},
     "output_type": "display_data"
    },
    {
     "data": {
      "text/plain": [
       "'http://zavety-i.ru/?module=articles&action=view&id=1759'"
      ]
     },
     "metadata": {},
     "output_type": "display_data"
    },
    {
     "data": {
      "text/plain": [
       "2.6545826230448615"
      ]
     },
     "metadata": {},
     "output_type": "display_data"
    },
    {
     "data": {
      "text/plain": [
       "'http://zavety-i.ru/?module=articles&action=view&id=1792'"
      ]
     },
     "metadata": {},
     "output_type": "display_data"
    },
    {
     "data": {
      "text/plain": [
       "1.865367819920191"
      ]
     },
     "metadata": {},
     "output_type": "display_data"
    },
    {
     "data": {
      "text/plain": [
       "'http://mgazeta.com/category/tak-i-zhivem/tamozhenniki-rasskazali-o-samykh-chastykh-oshibkakh-turistov-iz-bashkirii/'"
      ]
     },
     "metadata": {},
     "output_type": "display_data"
    },
    {
     "data": {
      "text/plain": [
       "0.8526537427114347"
      ]
     },
     "metadata": {},
     "output_type": "display_data"
    },
    {
     "data": {
      "text/plain": [
       "'http://zavety-i.ru/?module=articles&action=view&id=1784'"
      ]
     },
     "metadata": {},
     "output_type": "display_data"
    },
    {
     "data": {
      "text/plain": [
       "0.8485934867937611"
      ]
     },
     "metadata": {},
     "output_type": "display_data"
    },
    {
     "data": {
      "text/plain": [
       "'http://zavety-i.ru/?module=articles&action=view&id=1777'"
      ]
     },
     "metadata": {},
     "output_type": "display_data"
    },
    {
     "data": {
      "text/plain": [
       "0.7386437012773451"
      ]
     },
     "metadata": {},
     "output_type": "display_data"
    },
    {
     "data": {
      "text/plain": [
       "'http://zavety-i.ru/?module=articles&action=view&id=1780'"
      ]
     },
     "metadata": {},
     "output_type": "display_data"
    },
    {
     "data": {
      "text/plain": [
       "0.7261583263085762"
      ]
     },
     "metadata": {},
     "output_type": "display_data"
    },
    {
     "data": {
      "text/plain": [
       "'http://mgazeta.com/category/tak-i-zhivem/kak-ne-popast-pod-razdachu-energetikov/'"
      ]
     },
     "metadata": {},
     "output_type": "display_data"
    },
    {
     "data": {
      "text/plain": [
       "0.43106298782661046"
      ]
     },
     "metadata": {},
     "output_type": "display_data"
    }
   ],
   "source": [
    "rank.query('каникулы на новый год и рождество')"
   ]
  },
  {
   "cell_type": "code",
   "execution_count": 50,
   "metadata": {
    "collapsed": false,
    "scrolled": true
   },
   "outputs": [
    {
     "name": "stdout",
     "output_type": "stream",
     "text": [
      "1/325\n",
      "2/325\n",
      "3/325\n",
      "4/325\n",
      "5/325\n",
      "6/325\n",
      "7/325\n",
      "8/325\n",
      "9/325\n",
      "10/325\n",
      "11/325\n",
      "12/325\n",
      "13/325\n",
      "14/325\n",
      "15/325\n",
      "16/325\n",
      "17/325\n",
      "18/325\n",
      "19/325\n",
      "20/325\n",
      "21/325\n",
      "22/325\n",
      "23/325\n",
      "24/325\n",
      "25/325\n",
      "26/325\n",
      "27/325\n",
      "28/325\n",
      "29/325\n",
      "30/325\n",
      "31/325\n",
      "32/325\n",
      "33/325\n",
      "34/325\n",
      "35/325\n",
      "36/325\n",
      "37/325\n",
      "38/325\n",
      "39/325\n",
      "40/325\n",
      "41/325\n",
      "42/325\n",
      "43/325\n",
      "44/325\n",
      "45/325\n",
      "46/325\n",
      "47/325\n",
      "48/325\n",
      "49/325\n",
      "50/325\n",
      "51/325\n",
      "52/325\n",
      "53/325\n",
      "54/325\n",
      "55/325\n",
      "56/325\n",
      "57/325\n",
      "58/325\n",
      "59/325\n",
      "60/325\n",
      "61/325\n",
      "62/325\n",
      "63/325\n",
      "64/325\n",
      "65/325\n",
      "66/325\n",
      "67/325\n",
      "68/325\n",
      "69/325\n",
      "70/325\n",
      "71/325\n",
      "72/325\n",
      "73/325\n",
      "74/325\n",
      "75/325\n",
      "76/325\n",
      "77/325\n",
      "78/325\n",
      "79/325\n",
      "80/325\n",
      "81/325\n",
      "82/325\n",
      "83/325\n",
      "84/325\n",
      "85/325\n",
      "86/325\n",
      "87/325\n",
      "88/325\n",
      "89/325\n",
      "90/325\n",
      "91/325\n",
      "92/325\n",
      "93/325\n",
      "94/325\n",
      "95/325\n",
      "96/325\n",
      "97/325\n",
      "98/325\n",
      "99/325\n",
      "100/325\n",
      "101/325\n",
      "102/325\n",
      "103/325\n",
      "104/325\n",
      "105/325\n",
      "106/325\n",
      "107/325\n",
      "108/325\n",
      "109/325\n",
      "110/325\n",
      "111/325\n",
      "112/325\n",
      "113/325\n",
      "114/325\n",
      "115/325\n",
      "116/325\n",
      "117/325\n",
      "118/325\n",
      "119/325\n",
      "120/325\n",
      "121/325\n",
      "122/325\n",
      "123/325\n",
      "124/325\n",
      "125/325\n",
      "126/325\n",
      "127/325\n",
      "128/325\n",
      "129/325\n",
      "130/325\n",
      "131/325\n",
      "132/325\n",
      "133/325\n",
      "134/325\n",
      "135/325\n",
      "136/325\n",
      "137/325\n",
      "138/325\n",
      "139/325\n",
      "140/325\n",
      "141/325\n",
      "142/325\n",
      "143/325\n",
      "144/325\n",
      "145/325\n",
      "146/325\n",
      "147/325\n",
      "148/325\n",
      "149/325\n",
      "150/325\n",
      "151/325\n",
      "152/325\n",
      "153/325\n",
      "154/325\n",
      "155/325\n",
      "156/325\n",
      "157/325\n",
      "158/325\n",
      "159/325\n",
      "160/325\n",
      "161/325\n",
      "162/325\n",
      "163/325\n",
      "164/325\n",
      "165/325\n",
      "166/325\n",
      "167/325\n",
      "168/325\n",
      "169/325\n",
      "170/325\n",
      "171/325\n",
      "172/325\n",
      "173/325\n",
      "174/325\n",
      "175/325\n",
      "176/325\n",
      "177/325\n",
      "178/325\n",
      "179/325\n",
      "180/325\n",
      "181/325\n",
      "182/325\n",
      "183/325\n",
      "184/325\n",
      "185/325\n",
      "186/325\n",
      "187/325\n",
      "188/325\n",
      "189/325\n",
      "190/325\n",
      "191/325\n",
      "192/325\n",
      "193/325\n",
      "194/325\n",
      "195/325\n",
      "196/325\n",
      "197/325\n",
      "198/325\n",
      "199/325\n",
      "200/325\n",
      "201/325\n",
      "202/325\n",
      "203/325\n",
      "204/325\n",
      "205/325\n",
      "206/325\n",
      "207/325\n",
      "208/325\n",
      "209/325\n",
      "210/325\n",
      "211/325\n",
      "212/325\n",
      "213/325\n",
      "214/325\n",
      "215/325\n",
      "216/325\n",
      "217/325\n",
      "218/325\n",
      "219/325\n",
      "220/325\n",
      "221/325\n",
      "222/325\n",
      "223/325\n",
      "224/325\n",
      "225/325\n",
      "226/325\n",
      "227/325\n",
      "228/325\n",
      "229/325\n",
      "230/325\n",
      "231/325\n",
      "232/325\n",
      "233/325\n",
      "234/325\n",
      "235/325\n",
      "236/325\n",
      "237/325\n",
      "238/325\n",
      "239/325\n",
      "240/325\n",
      "241/325\n",
      "242/325\n",
      "243/325\n",
      "244/325\n",
      "245/325\n",
      "246/325\n",
      "247/325\n",
      "248/325\n",
      "249/325\n",
      "250/325\n",
      "251/325\n",
      "252/325\n",
      "253/325\n",
      "254/325\n",
      "255/325\n",
      "256/325\n",
      "257/325\n",
      "258/325\n",
      "259/325\n",
      "260/325\n",
      "261/325\n",
      "262/325\n",
      "263/325\n",
      "264/325\n",
      "265/325\n",
      "266/325\n",
      "267/325\n",
      "268/325\n",
      "269/325\n",
      "270/325\n",
      "271/325\n",
      "272/325\n",
      "273/325\n",
      "274/325\n",
      "275/325\n",
      "276/325\n",
      "277/325\n",
      "278/325\n",
      "279/325\n",
      "280/325\n",
      "281/325\n",
      "282/325\n",
      "283/325\n",
      "284/325\n",
      "285/325\n",
      "286/325\n",
      "287/325\n",
      "288/325\n",
      "289/325\n",
      "290/325\n",
      "291/325\n",
      "292/325\n",
      "293/325\n",
      "294/325\n",
      "295/325\n",
      "296/325\n",
      "297/325\n",
      "298/325\n",
      "299/325\n",
      "300/325\n",
      "301/325\n",
      "302/325\n",
      "303/325\n",
      "304/325\n",
      "305/325\n",
      "306/325\n",
      "307/325\n",
      "308/325\n",
      "309/325\n",
      "310/325\n",
      "311/325\n",
      "312/325\n",
      "313/325\n",
      "314/325\n",
      "315/325\n",
      "316/325\n",
      "317/325\n",
      "318/325\n",
      "319/325\n",
      "320/325\n",
      "321/325\n",
      "322/325\n",
      "323/325\n",
      "324/325\n",
      "325/325\n",
      "325 documents collected\n"
     ]
    }
   ],
   "source": [
    "rank_big = SearchRank('app/articles_collection')"
   ]
  },
  {
   "cell_type": "code",
   "execution_count": 51,
   "metadata": {
    "collapsed": false,
    "scrolled": false
   },
   "outputs": [
    {
     "name": "stdout",
     "output_type": "stream",
     "text": [
      "179\n"
     ]
    },
    {
     "data": {
      "text/plain": [
       "'http://zavety-i.ru/?module=articles&action=view&id=1746'"
      ]
     },
     "metadata": {},
     "output_type": "display_data"
    },
    {
     "data": {
      "text/plain": [
       "8.023489647066308"
      ]
     },
     "metadata": {},
     "output_type": "display_data"
    },
    {
     "data": {
      "text/plain": [
       "'http://mgazeta.com/category/tak-i-zhivem/kakoy-budet-nyneshnyaya-zima-gadaem-na-mokhnatykh-gusenitsakh-i-kommunalshchikakh/'"
      ]
     },
     "metadata": {},
     "output_type": "display_data"
    },
    {
     "data": {
      "text/plain": [
       "4.871213038392074"
      ]
     },
     "metadata": {},
     "output_type": "display_data"
    },
    {
     "data": {
      "text/plain": [
       "'http://mgazeta.com/category/tak-i-zhivem/ponedelnik-segodnya-nachinaem-novuyu-zhizn/'"
      ]
     },
     "metadata": {},
     "output_type": "display_data"
    },
    {
     "data": {
      "text/plain": [
       "2.5766812844505953"
      ]
     },
     "metadata": {},
     "output_type": "display_data"
    },
    {
     "data": {
      "text/plain": [
       "'http://mgazeta.com/category/tak-i-zhivem/industriya-krasoty-meditsinskoe-obrazovanie-ne-trebuetsya/'"
      ]
     },
     "metadata": {},
     "output_type": "display_data"
    },
    {
     "data": {
      "text/plain": [
       "2.4418213751257176"
      ]
     },
     "metadata": {},
     "output_type": "display_data"
    },
    {
     "data": {
      "text/plain": [
       "'http://mgazeta.com/category/tak-i-zhivem/lera-kudryavtseva-pereedet-v-ufu/'"
      ]
     },
     "metadata": {},
     "output_type": "display_data"
    },
    {
     "data": {
      "text/plain": [
       "2.402610041982867"
      ]
     },
     "metadata": {},
     "output_type": "display_data"
    },
    {
     "data": {
      "text/plain": [
       "'http://mgazeta.com/category/tak-i-zhivem/vich-dve-treti-novykh-sluchaev-zarazheniya-v-evrope-prikhoditsya-na-rossiyu/'"
      ]
     },
     "metadata": {},
     "output_type": "display_data"
    },
    {
     "data": {
      "text/plain": [
       "2.366090843468412"
      ]
     },
     "metadata": {},
     "output_type": "display_data"
    },
    {
     "data": {
      "text/plain": [
       "'http://mgazeta.com/category/tak-i-zhivem/tayna-ezhednevnogo-poyavleniya-yam-na-ul-avrory-raskryta/'"
      ]
     },
     "metadata": {},
     "output_type": "display_data"
    },
    {
     "data": {
      "text/plain": [
       "2.2919671124004912"
      ]
     },
     "metadata": {},
     "output_type": "display_data"
    },
    {
     "data": {
      "text/plain": [
       "'http://zavety-i.ru/?module=articles&action=view&id=1769'"
      ]
     },
     "metadata": {},
     "output_type": "display_data"
    },
    {
     "data": {
      "text/plain": [
       "2.257531979730941"
      ]
     },
     "metadata": {},
     "output_type": "display_data"
    },
    {
     "data": {
      "text/plain": [
       "'http://mgazeta.com/category/tak-i-zhivem/feyerverk-opasnaya-zabava/'"
      ]
     },
     "metadata": {},
     "output_type": "display_data"
    },
    {
     "data": {
      "text/plain": [
       "2.248222315357751"
      ]
     },
     "metadata": {},
     "output_type": "display_data"
    },
    {
     "data": {
      "text/plain": [
       "'http://mgazeta.com/category/tak-i-zhivem/volk-zabivaka-za-500-reaktsiya-seti-na-talisman-chm-2018-po-futbolu/'"
      ]
     },
     "metadata": {},
     "output_type": "display_data"
    },
    {
     "data": {
      "text/plain": [
       "2.205751771307259"
      ]
     },
     "metadata": {},
     "output_type": "display_data"
    }
   ],
   "source": [
    "rank_big.query('каникулы на новый год и рождество')"
   ]
  },
  {
   "cell_type": "code",
   "execution_count": null,
   "metadata": {
    "collapsed": true
   },
   "outputs": [],
   "source": []
  }
 ],
 "metadata": {
  "anaconda-cloud": {},
  "kernelspec": {
   "display_name": "Python [conda root]",
   "language": "python",
   "name": "conda-root-py"
  },
  "language_info": {
   "codemirror_mode": {
    "name": "ipython",
    "version": 3
   },
   "file_extension": ".py",
   "mimetype": "text/x-python",
   "name": "python",
   "nbconvert_exporter": "python",
   "pygments_lexer": "ipython3",
   "version": "3.5.2"
  }
 },
 "nbformat": 4,
 "nbformat_minor": 1
}
