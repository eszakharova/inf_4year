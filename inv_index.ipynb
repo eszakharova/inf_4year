{
 "cells": [
  {
   "cell_type": "code",
   "execution_count": 1,
   "metadata": {
    "collapsed": true
   },
   "outputs": [],
   "source": [
    "from collections import defaultdict\n",
    "from os import listdir\n",
    "from string import punctuation\n",
    "from nltk import word_tokenize\n",
    "from nltk.corpus import stopwords"
   ]
  },
  {
   "cell_type": "code",
   "execution_count": 9,
   "metadata": {
    "collapsed": false
   },
   "outputs": [],
   "source": [
    "class InvIndex:\n",
    "    def __init__(self, language):\n",
    "        self.punctuation = punctuation\n",
    "        self.stopwords = stopwords.words(language)\n",
    "        self.inverted_index = defaultdict(set)\n",
    "        self.last_doc_n = 0\n",
    "\n",
    "    def tokenize(self, text, remove_stopwords=True):\n",
    "        text = text.lower()\n",
    "        if remove_stopwords:\n",
    "            tokens = [i.strip('\\'«»`') for i in word_tokenize(text)\n",
    "                      if i not in self.stopwords and i not in self.punctuation]\n",
    "        else:\n",
    "            tokens = [i.strip('\\'«»') for i in word_tokenize(text) if i not in self.punctuation]\n",
    "        tokens = [j for j in tokens if j]\n",
    "        return tokens\n",
    "\n",
    "    def doc_collection(self, dir_path):\n",
    "        tokenized_doc_collection = []\n",
    "        for filename in listdir(dir_path):\n",
    "            f = open(''.join([dir_path, '/', filename]), encoding='utf-8')\n",
    "            text = f.read()\n",
    "            tokens = self.tokenize(text)\n",
    "            tokenized_doc_collection.append(tokens)\n",
    "        return tokenized_doc_collection\n",
    "\n",
    "    def inv_index(self, tokenized_doc_collection, inv_index):\n",
    "        if not inv_index:\n",
    "            for i, doc in enumerate(tokenized_doc_collection):\n",
    "                for term in doc:\n",
    "                    inv_index[term].add(i + 1)\n",
    "        else:\n",
    "            for i, doc in enumerate(tokenized_doc_collection, start=self.last_doc_n):\n",
    "                for term in doc:\n",
    "                    inv_index[term].add(i + 1)\n",
    "\n",
    "        return inv_index\n",
    "\n",
    "    def make(self, dir_path):\n",
    "        \"\"\" Сделать обратный индекс по всем документам в папке (без возможности потом его дополнить).\"\"\"\n",
    "        return self.inv_index(self.doc_collection(dir_path), defaultdict(set))\n",
    "\n",
    "    def add(self, dir_path):\n",
    "        \"\"\" При первом вызове - сделать обратный индекс по всем документам в папке,\n",
    "            при последующих вызовах - дополнить обратный индекс документами из папки.\n",
    "        \"\"\"\n",
    "        docs = self.doc_collection(dir_path)\n",
    "        result = self.inv_index(docs, self.inverted_index)\n",
    "        self.last_doc_n += len(docs)\n",
    "        return result  "
   ]
  },
  {
   "cell_type": "code",
   "execution_count": 10,
   "metadata": {
    "collapsed": true
   },
   "outputs": [],
   "source": [
    "inv = InvIndex('russian')"
   ]
  },
  {
   "cell_type": "code",
   "execution_count": 11,
   "metadata": {
    "collapsed": false
   },
   "outputs": [
    {
     "data": {
      "text/plain": [
       "defaultdict(set,\n",
       "            {'defaultdict': {2},\n",
       "             'ipynb': {1},\n",
       "             'ipython': {1},\n",
       "             'notebook': {1},\n",
       "             'везде': {1},\n",
       "             'возвращать': {3},\n",
       "             'дз': {3},\n",
       "             'документов': {3},\n",
       "             'загружайте': {1},\n",
       "             'заданий': {1},\n",
       "             'индекс': {3},\n",
       "             'используйте': {2},\n",
       "             'которая': {3},\n",
       "             'набору': {3},\n",
       "             'написать': {2, 3},\n",
       "             'например': {2},\n",
       "             'образом': {2},\n",
       "             'обратный': {3},\n",
       "             'оптимальным': {2},\n",
       "             'постарайтесь': {2},\n",
       "             'применяющийся': {1},\n",
       "             'прохождения': {1},\n",
       "             'работу': {1},\n",
       "             'решения': {1},\n",
       "             'свои': {1},\n",
       "             'стадиях': {1},\n",
       "             'стандарт': {1},\n",
       "             'суть': {3},\n",
       "             'тестовых': {1},\n",
       "             'устройста': {1},\n",
       "             'функцию': {2, 3}})"
      ]
     },
     "execution_count": 11,
     "metadata": {},
     "output_type": "execute_result"
    }
   ],
   "source": [
    "inv.add('collection')"
   ]
  },
  {
   "cell_type": "code",
   "execution_count": 12,
   "metadata": {
    "collapsed": false
   },
   "outputs": [
    {
     "data": {
      "text/plain": [
       "defaultdict(set,\n",
       "            {'defaultdict': {2},\n",
       "             'ipynb': {1},\n",
       "             'ipython': {1},\n",
       "             'notebook': {1},\n",
       "             'везде': {1},\n",
       "             'возвращать': {3, 4},\n",
       "             'дз': {3, 4},\n",
       "             'документ': {5},\n",
       "             'документов': {3},\n",
       "             'загружайте': {1},\n",
       "             'заданий': {1},\n",
       "             'индекс': {3},\n",
       "             'используйте': {2},\n",
       "             'которая': {3},\n",
       "             'набору': {3},\n",
       "             'написать': {2, 3, 5},\n",
       "             'например': {2},\n",
       "             'образом': {2},\n",
       "             'обратный': {3},\n",
       "             'оптимальным': {2},\n",
       "             'постарайтесь': {2},\n",
       "             'применяющийся': {1},\n",
       "             'прохождения': {1},\n",
       "             'работу': {1},\n",
       "             'решения': {1},\n",
       "             'свои': {1},\n",
       "             'стадиях': {1},\n",
       "             'стандарт': {1},\n",
       "             'суть': {3},\n",
       "             'тестовых': {1},\n",
       "             'устройста': {1},\n",
       "             'функцию': {2, 3},\n",
       "             'функция': {4, 5}})"
      ]
     },
     "execution_count": 12,
     "metadata": {},
     "output_type": "execute_result"
    }
   ],
   "source": [
    "inv.add('collection2')"
   ]
  },
  {
   "cell_type": "code",
   "execution_count": 13,
   "metadata": {
    "collapsed": false,
    "scrolled": false
   },
   "outputs": [
    {
     "data": {
      "text/plain": [
       "defaultdict(set,\n",
       "            {'defaultdict': {2},\n",
       "             'ipynb': {1},\n",
       "             'ipython': {1},\n",
       "             'notebook': {1},\n",
       "             'везде': {1},\n",
       "             'возвращать': {3},\n",
       "             'дз': {3},\n",
       "             'документов': {3},\n",
       "             'загружайте': {1},\n",
       "             'заданий': {1},\n",
       "             'индекс': {3},\n",
       "             'используйте': {2},\n",
       "             'которая': {3},\n",
       "             'набору': {3},\n",
       "             'написать': {2, 3},\n",
       "             'например': {2},\n",
       "             'образом': {2},\n",
       "             'обратный': {3},\n",
       "             'оптимальным': {2},\n",
       "             'постарайтесь': {2},\n",
       "             'применяющийся': {1},\n",
       "             'прохождения': {1},\n",
       "             'работу': {1},\n",
       "             'решения': {1},\n",
       "             'свои': {1},\n",
       "             'стадиях': {1},\n",
       "             'стандарт': {1},\n",
       "             'суть': {3},\n",
       "             'тестовых': {1},\n",
       "             'устройста': {1},\n",
       "             'функцию': {2, 3}})"
      ]
     },
     "execution_count": 13,
     "metadata": {},
     "output_type": "execute_result"
    }
   ],
   "source": [
    "inv.make('collection')"
   ]
  }
 ],
 "metadata": {
  "anaconda-cloud": {},
  "kernelspec": {
   "display_name": "Python [conda root]",
   "language": "python",
   "name": "conda-root-py"
  },
  "language_info": {
   "codemirror_mode": {
    "name": "ipython",
    "version": 3
   },
   "file_extension": ".py",
   "mimetype": "text/x-python",
   "name": "python",
   "nbconvert_exporter": "python",
   "pygments_lexer": "ipython3",
   "version": "3.5.2"
  }
 },
 "nbformat": 4,
 "nbformat_minor": 1
}
