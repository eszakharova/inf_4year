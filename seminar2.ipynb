{
 "cells": [
  {
   "cell_type": "markdown",
   "metadata": {},
   "source": [
    "## Семинар 2\n",
    "Написать краулер, который собирает ссылки со страниц румынской Википедии."
   ]
  },
  {
   "cell_type": "code",
   "execution_count": 1,
   "metadata": {
    "collapsed": true
   },
   "outputs": [],
   "source": [
    "import requests\n",
    "from bs4 import BeautifulSoup"
   ]
  },
  {
   "cell_type": "code",
   "execution_count": 2,
   "metadata": {
    "collapsed": true
   },
   "outputs": [],
   "source": [
    "url = 'http://mo.wikipedia.org'"
   ]
  },
  {
   "cell_type": "code",
   "execution_count": 37,
   "metadata": {
    "collapsed": false
   },
   "outputs": [],
   "source": [
    "root = requests.get(url).text\n",
    "root_soup = BeautifulSoup(root, 'lxml')\n",
    "visited = []\n",
    "to_visit = []\n",
    "links = root_soup('a')\n",
    "for link in links:\n",
    "    if 'href' in link.attrs:\n",
    "        if 'http' not in link.attrs['href'] and ':' not in link.attrs['href']:\n",
    "            full_link = 'http://mo.wikipedia.org'+link.attrs['href']\n",
    "            if '/wiki/' in full_link:\n",
    "                to_visit.append(full_link)"
   ]
  },
  {
   "cell_type": "code",
   "execution_count": 38,
   "metadata": {
    "collapsed": false,
    "scrolled": true
   },
   "outputs": [
    {
     "data": {
      "text/plain": [
       "['http://mo.wikipedia.org/wiki/%D0%92%D0%B8%D0%BA%D0%B8%D0%BF%D0%B5%D0%B4%D0%B8%D1%8F',\n",
       " 'http://mo.wikipedia.org/wiki/%D0%90%D1%80%D1%85%D0%B8%D1%82%D0%B5%D0%BA%D1%82%D1%83%D1%80%D1%8D',\n",
       " 'http://mo.wikipedia.org/wiki/%D0%A4%D0%B8%D0%BB%D0%BC',\n",
       " 'http://mo.wikipedia.org/wiki/%D0%9C%D1%83%D0%B7%D0%B8%D0%BA%D1%8D',\n",
       " 'http://mo.wikipedia.org/wiki/%D0%9A%D0%BE%D0%BC%D1%83%D0%BD%D0%B8%D0%BA%D0%B0%D1%86%D0%B8%D0%B5',\n",
       " 'http://mo.wikipedia.org/wiki/%D0%A1%D0%BE%D0%BB%D0%B4%D0%B0%D1%86%D0%B8%D0%B9',\n",
       " 'http://mo.wikipedia.org/wiki/%D0%9F%D0%BE%D0%BB%D0%B8%D1%82%D0%B8%D0%BA%D1%8D',\n",
       " 'http://mo.wikipedia.org/wiki/%D0%9A%D1%80%D0%B5%D1%88%D1%82%D0%B8%D0%BD%D0%B8%D0%B7%D0%BC',\n",
       " 'http://mo.wikipedia.org/wiki/%D0%98%D1%81%D0%BB%D0%B0%D0%BC%D0%B8%D0%B7%D0%BC',\n",
       " 'http://mo.wikipedia.org/wiki/%D0%9B%D0%B8%D0%BC%D0%B1%D1%8C',\n",
       " 'http://mo.wikipedia.org/wiki/%D0%9B%D0%B8%D0%BD%D0%B3%D0%B2%D0%B8%D1%81%D1%82%D0%B8%D0%BA%D1%8D',\n",
       " 'http://mo.wikipedia.org/wiki/%D0%9A%D0%B8%D0%BC%D0%B8%D0%B5',\n",
       " 'http://mo.wikipedia.org/wiki/%D0%92%D0%B8%D0%BA%D0%B8%D0%BC%D0%B5%D0%B4%D0%B8%D1%8F',\n",
       " 'http://mo.wikipedia.org/wiki/%D0%9F%D0%B0%D3%82%D0%B8%D0%BD%D0%B0_%D0%BF%D1%80%D0%B8%D0%BD%D1%87%D0%B8%D0%BF%D0%B0%D0%BB%D1%8D',\n",
       " 'http://mo.wikipedia.org/wiki/%D0%9F%D0%B0%D3%82%D0%B8%D0%BD%D0%B0_%D0%BF%D1%80%D0%B8%D0%BD%D1%87%D0%B8%D0%BF%D0%B0%D0%BB%D1%8D',\n",
       " 'http://mo.wikipedia.org/wiki/%D0%9F%D0%B0%D3%82%D0%B8%D0%BD%D0%B0_%D0%BF%D1%80%D0%B8%D0%BD%D1%87%D0%B8%D0%BF%D0%B0%D0%BB%D1%8D',\n",
       " 'http://mo.wikipedia.org/wiki/%D0%9F%D0%B0%D3%82%D0%B8%D0%BD%D0%B0_%D0%BF%D1%80%D0%B8%D0%BD%D1%87%D0%B8%D0%BF%D0%B0%D0%BB%D1%8D']"
      ]
     },
     "execution_count": 38,
     "metadata": {},
     "output_type": "execute_result"
    }
   ],
   "source": [
    "to_visit"
   ]
  },
  {
   "cell_type": "code",
   "execution_count": 39,
   "metadata": {
    "collapsed": false
   },
   "outputs": [],
   "source": [
    "while to_visit:\n",
    "    if to_visit[0] in visited:\n",
    "        to_visit.pop(0)\n",
    "    else:\n",
    "        current_page = requests.get(to_visit[0]).text\n",
    "        current_soup = BeautifulSoup(current_page, 'lxml')\n",
    "        current_links = current_soup('a')\n",
    "        for link in current_links:\n",
    "            if 'href' in link.attrs:\n",
    "                if 'http' not in link.attrs['href'] and ':' not in link.attrs['href']:\n",
    "                    full_link = 'http://mo.wikipedia.org'+link.attrs['href']\n",
    "                    if '/wiki/' in full_link and full_link not in visited and full_link not in to_visit:\n",
    "                        to_visit.append(full_link)\n",
    "        visited.append(to_visit[0])\n",
    "        to_visit.pop(0)"
   ]
  },
  {
   "cell_type": "code",
   "execution_count": 40,
   "metadata": {
    "collapsed": false,
    "scrolled": true
   },
   "outputs": [
    {
     "name": "stdout",
     "output_type": "stream",
     "text": [
      "319\n"
     ]
    }
   ],
   "source": [
    "print(len(visited))"
   ]
  }
 ],
 "metadata": {
  "anaconda-cloud": {},
  "kernelspec": {
   "display_name": "Python [conda root]",
   "language": "python",
   "name": "conda-root-py"
  },
  "language_info": {
   "codemirror_mode": {
    "name": "ipython",
    "version": 3
   },
   "file_extension": ".py",
   "mimetype": "text/x-python",
   "name": "python",
   "nbconvert_exporter": "python",
   "pygments_lexer": "ipython3",
   "version": "3.5.2"
  }
 },
 "nbformat": 4,
 "nbformat_minor": 1
}
