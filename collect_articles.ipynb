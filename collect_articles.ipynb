{
 "cells": [
  {
   "cell_type": "code",
   "execution_count": 2,
   "metadata": {
    "collapsed": false
   },
   "outputs": [],
   "source": [
    "from bs4 import BeautifulSoup\n",
    "import requests"
   ]
  },
  {
   "cell_type": "code",
   "execution_count": 3,
   "metadata": {
    "collapsed": true
   },
   "outputs": [],
   "source": [
    "import os"
   ]
  },
  {
   "cell_type": "code",
   "execution_count": 4,
   "metadata": {
    "collapsed": false
   },
   "outputs": [],
   "source": [
    "def write_doc(dir_path, doc_text, count):\n",
    "    if not os.path.exists(dir_path):\n",
    "        os.makedirs(dir_path)\n",
    "    f = open('{}/doc{}.txt'.format(dir_path, str(count)), 'w')\n",
    "    f.write(doc_text)\n",
    "    f.close()"
   ]
  },
  {
   "cell_type": "code",
   "execution_count": 5,
   "metadata": {
    "collapsed": false
   },
   "outputs": [],
   "source": [
    "# Заветы Ильича\n",
    "def get_articles(start, count, dir_path):\n",
    "    cnt = 0\n",
    "    for i in range(count):\n",
    "        page = requests.get('http://zavety-i.ru/?module=articles&action=view&id='+str(start+i))\n",
    "        html = page.text\n",
    "        soup = BeautifulSoup(html, 'lxml')\n",
    "        text = []\n",
    "        text_tags = soup('div', {'class' :\"full-news\"})\n",
    "        if text_tags != []:\n",
    "            for tag in text_tags[0]:\n",
    "                if tag.name == 'p':\n",
    "                    text.append(tag.string)\n",
    "        if text != []:\n",
    "            author = 'Noname'\n",
    "            title = soup.find('h2', {'class' :\"title\"}).string\n",
    "            date = soup.find('span', {'class' : \"date\"}).string.split('.')\n",
    "            date_ = '.'.join([date[2], date[1], date[0]])\n",
    "            topic = ''\n",
    "            url = 'http://zavety-i.ru/?module=articles&action=view&id='+str(start+i)\n",
    "            if None not in ([author, title, date_, url]):\n",
    "                formated = '@au {}\\n@ti {}\\n@da {}\\n@topic {}\\n@url {}\\n{}'.format(author, title, date_, \n",
    "                                                                                   topic, url, ' '.join(text))\n",
    "                write_doc(dir_path, formated, cnt)\n",
    "                cnt += 1\n",
    "    print(str(cnt)+' articles')"
   ]
  },
  {
   "cell_type": "code",
   "execution_count": 90,
   "metadata": {
    "collapsed": true
   },
   "outputs": [],
   "source": [
    "# Молодежная газета\n",
    "def get_more_articles(count, dir_path):\n",
    "    cnt = 15\n",
    "    page_number = 1\n",
    "    count = count+15\n",
    "    \n",
    "    while cnt < count and page_number < 56:\n",
    "        parent_page = requests.get('http://mgazeta.com/category/tak-i-zhivem/?PAGEN_1='+str(page_number)).text\n",
    "        parent_soup = BeautifulSoup(parent_page, 'lxml')\n",
    "        links = parent_soup.findAll('a', {'class' :\"item-prev-image\"})\n",
    "        page_number += 1\n",
    "        for link in links:\n",
    "            if cnt >= count:\n",
    "                break\n",
    "            url = 'http://mgazeta.com'+link['href']\n",
    "            article_page = requests.get(url).text\n",
    "            article_soup = BeautifulSoup(article_page, 'lxml')\n",
    "            author = article_soup.find('span', {'class' : \"news-property prop-AUTORS \"})\n",
    "            if author:\n",
    "                author = author.string.strip()\n",
    "            else:\n",
    "                author = 'Noname'\n",
    "            title = article_soup.find('h1').string\n",
    "            date = article_soup.find('span', {'class' : \"news-date-time\"}).string.split()[0]\n",
    "            topic = article_soup.find('div', {'class': \"top-section-name\"}).string\n",
    "            text = []\n",
    "            text_tags1 = article_soup('div', {'class' :\"news-detail article-detail\"})\n",
    "            if text_tags1 != []:\n",
    "                for tag in text_tags1[0]:\n",
    "                    if tag.name == 'p' and tag.string:\n",
    "                        text.append(tag.string) \n",
    "            text_tags2 = article_soup('div', {'class' :\"news-text js-mediator-article\"})\n",
    "            if text_tags2 != []:\n",
    "                for tag in text_tags2[0]:\n",
    "                    if tag.string:\n",
    "                        text.append(tag.string.strip())\n",
    "            if None not in (author, title, date, topic) and text != []:\n",
    "                formated = '@au {}\\n@ti {}\\n@da {}\\n@topic {}\\n@url {}\\n{}'.format(author, title, date, \n",
    "                                                                                           topic, url, ' '.join(text))\n",
    "                write_doc(dir_path, formated, cnt)\n",
    "            cnt += 1\n",
    "           \n",
    "    print(str(cnt)+' articles')"
   ]
  },
  {
   "cell_type": "code",
   "execution_count": 91,
   "metadata": {
    "collapsed": false,
    "scrolled": true
   },
   "outputs": [
    {
     "name": "stdout",
     "output_type": "stream",
     "text": [
      "673 articles\n"
     ]
    }
   ],
   "source": [
    "get_more_articles(700, 'articles_collection')"
   ]
  },
  {
   "cell_type": "code",
   "execution_count": null,
   "metadata": {
    "collapsed": true
   },
   "outputs": [],
   "source": []
  }
 ],
 "metadata": {
  "anaconda-cloud": {},
  "kernelspec": {
   "display_name": "Python [conda root]",
   "language": "python",
   "name": "conda-root-py"
  },
  "language_info": {
   "codemirror_mode": {
    "name": "ipython",
    "version": 3
   },
   "file_extension": ".py",
   "mimetype": "text/x-python",
   "name": "python",
   "nbconvert_exporter": "python",
   "pygments_lexer": "ipython3",
   "version": "3.5.2"
  }
 },
 "nbformat": 4,
 "nbformat_minor": 1
}
