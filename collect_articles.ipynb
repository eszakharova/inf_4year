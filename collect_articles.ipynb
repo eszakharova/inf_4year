{
 "cells": [
  {
   "cell_type": "code",
   "execution_count": 2,
   "metadata": {
    "collapsed": false
   },
   "outputs": [],
   "source": [
    "from bs4 import BeautifulSoup\n",
    "import requests"
   ]
  },
  {
   "cell_type": "code",
   "execution_count": 63,
   "metadata": {
    "collapsed": true
   },
   "outputs": [],
   "source": [
    "import os"
   ]
  },
  {
   "cell_type": "code",
   "execution_count": 65,
   "metadata": {
    "collapsed": false
   },
   "outputs": [],
   "source": [
    "def write_doc(dir_path, doc_text, count):\n",
    "    if not os.path.exists(dir_path):\n",
    "        os.makedirs(dir_path)\n",
    "    f = open('{}/doc{}.txt'.format(dir_path, str(count)), 'w')\n",
    "    f.write(doc_text)\n",
    "    f.close()"
   ]
  },
  {
   "cell_type": "code",
   "execution_count": 89,
   "metadata": {
    "collapsed": false
   },
   "outputs": [],
   "source": [
    "def get_articles(start, count, dir_path):\n",
    "    cnt = 0\n",
    "    for i in range(count):\n",
    "        page = requests.get('http://zavety-i.ru/?module=articles&action=view&id='+str(start+i))\n",
    "        html = page.text\n",
    "        soup = BeautifulSoup(html, 'lxml')\n",
    "        text = []\n",
    "        text_tags = soup('div', {'class' :\"full-news\"})\n",
    "        if text_tags != []:\n",
    "            for tag in text_tags[0]:\n",
    "                if tag.name == 'p':\n",
    "                    text.append(tag.string)\n",
    "        if text != []:\n",
    "            author = 'Noname'\n",
    "            title = soup.find('h2', {'class' :\"title\"}).string\n",
    "            date = soup.find('span', {'class' : \"date\"}).string.split('.')\n",
    "            date_ = '.'.join([date[2], date[1], date[0]])\n",
    "            topic = ''\n",
    "            url = 'http://zavety-i.ru/?module=articles&action=view&id='+str(start+i)\n",
    "            if None not in ([author, title, date_, url]):\n",
    "                formated = '@au {}\\n@ti {}\\n@da {}\\n@topic {}\\n@url {}\\n{}'.format(author, title, date_, \n",
    "                                                                                   topic, url, ' '.join(text))\n",
    "                write_doc(dir_path, formated, cnt)\n",
    "                cnt += 1\n",
    "    print(str(cnt)+'articles')"
   ]
  },
  {
   "cell_type": "code",
   "execution_count": 91,
   "metadata": {
    "collapsed": false
   },
   "outputs": [
    {
     "name": "stdout",
     "output_type": "stream",
     "text": [
      "15articles\n"
     ]
    }
   ],
   "source": [
    "get_articles(1742, 1000, 'articles_collection')"
   ]
  }
 ],
 "metadata": {
  "anaconda-cloud": {},
  "kernelspec": {
   "display_name": "Python [conda root]",
   "language": "python",
   "name": "conda-root-py"
  },
  "language_info": {
   "codemirror_mode": {
    "name": "ipython",
    "version": 3
   },
   "file_extension": ".py",
   "mimetype": "text/x-python",
   "name": "python",
   "nbconvert_exporter": "python",
   "pygments_lexer": "ipython3",
   "version": "3.5.2"
  }
 },
 "nbformat": 4,
 "nbformat_minor": 1
}
